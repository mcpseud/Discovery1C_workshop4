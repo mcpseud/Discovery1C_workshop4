{
 "cells": [
  {
   "cell_type": "markdown",
   "id": "2d5dbdb3",
   "metadata": {},
   "source": [
    "# Workshop 4: How can we slow the spread of antimicrobial resistance?\n",
    "\n",
    "In Workshop 3 you explored a model for the spread of antimicrobial resistance in a hospital and wrote a function to allocate antibiotics within the hospital. Your goal in that workshop was to allocate antibiotics to patients in such a way that the evolution of AMR was slowed and deaths among patients minimised. In this workshop we will build upon what you did last week to further understand how we can slow the spread of AMR.\n",
    "\n",
    "Firstly, you will be given some example functions for allocating antibiotics in the model. However, you will not be given any information about what these functions do other than being given the code. Your task will be to write a description of how what these functions are doing.\n",
    "\n",
    "Secondly, you will compare the performance of these functions to each other and to the function that you devised last week. You will also examine how different parameters affect the relative performance of each function, and explain why each function is best.\n",
    "\n",
    "\n",
    "#### Intended Learning Outcomes\n",
    "\n",
    "By the end of this workshop, you should be able to:\n",
    "\n",
    "* Write an explanation of supplied function code\n",
    "* Compare function behaviour across a range of paramter values using loops\n",
    "* Understand how using multiple drugs can help slow resistance evolution and reduce deaths\n",
    "\n",
    "\n",
    "### Working as a group\n",
    "\n",
    "Your task today is as much conceptual as a coding task. **Discuss your code, ideas and answers with other members of the group.** Peer assistance (not copying answers but talking through your approaches to the problem) can help avoid you getting stuck, increase how much you learn from the session and make it more enjoyable.\n",
    "\n",
    "\n",
    "\n"
   ]
  },
  {
   "cell_type": "markdown",
   "id": "fc8760ec",
   "metadata": {},
   "source": [
    "# Importing and looping the model\n",
    "\n",
    "Here is a quick reminder of how our model works:\n",
    "* In the model there are two different antibiotics that can be used by doctors in the hospital, drug A and drug B.\n",
    "* The bacteria can have four different types:\n",
    "    1. Sensitive to both antibiotics (`sensitive`)\n",
    "    2. Resistant to drug A and sensitive to drug B (`resistant_A`)\n",
    "    3. Resistant to drug B and sensitive to drug A (`resistant_B`)\n",
    "    4. Resistant to both drugs (`resistant_AB`).\n",
    "* Drug A is better at killing the bacteria, helping patients clear their infection twice as fast as drug B when the infecting bacteria are sensitive to it (efficacy drug A = 0.01, effiacy drug B = 0.005).\n",
    "* Both drugs carry a cost of resistance for the bacteria.\n",
    "* The infection is potentially lethal, with each infected patient having a 1% chance of dying each day.\n",
    "* The model will simulate 5,000 days every time that you run it.\n",
    "* Each simulation will begin with only sensitive bacteria, but resistance to both drugs will begin to appear by mutation.\n",
    "* How fast resistance to each drug will spread will depend on how antibiotics are allocated during the simulation.\n",
    "\n",
    "Today we will import a slightly different version of the model which will allow you to pass the model values for the parameters of the efficacies of drug A and drug B and the cost of resistance. This will allow you to explore how these parameters effect the outcome of the models.\n",
    "\n",
    "To get started we'll load the module `AMR_model` that contains the model along with some other modules that we'll need today."
   ]
  },
  {
   "cell_type": "code",
   "execution_count": null,
   "id": "23c0ee22",
   "metadata": {},
   "outputs": [],
   "source": [
    "import AMR_model_vary_pars as model\n",
    "import numpy as np\n",
    "import matplotlib.pyplot as plt\n",
    "import pandas as pd"
   ]
  },
  {
   "cell_type": "markdown",
   "id": "d25f5f07",
   "metadata": {},
   "source": [
    "As before this module contains a function called `run_model`, which will run the computer simulation of the spread of resistance in the hospital. This `run_model` function takes **three inputs**: \n",
    "   1. The allocation function to be used\n",
    "   2. The cost of resistance(`cost`)\n",
    "   3. The probability of a resistance mutation occurring per infection per day (`mutation`)\n",
    "   \n",
    "As with last week, you are given **5 inputs** which must be passed to your allocation function. These are:\n",
    "   1. The current day of the simulation (`day`)\n",
    "   2. The prevalence of infections that are sensitive to both antibiotics (`sensitive`)\n",
    "   3. The prevalence of infections that are resistant to drug A and sensitive to drug B (`resistant_A`)\n",
    "   4. The prevalence of infections that are resistant to drug B and sensitive to drug A (`resistant_B`)\n",
    "   5. The prevalence of infections that are resistant to both drugs (`resistant_AB`)\n",
    "   \n",
    "Prevalence here is the proportion of patients with that infection.\n",
    "\n",
    "**Again remember that `pA` and `pB` must not add up to greater than 1. Otherwise the model will simply not treat any patients at all, so be careful to ensure that this is always the case!**\n",
    "\n",
    "Let's use our `use_the_bad_drug` allocation function from last week to see how the `run_model` function works."
   ]
  },
  {
   "cell_type": "code",
   "execution_count": null,
   "id": "a22a7a28",
   "metadata": {
    "scrolled": true
   },
   "outputs": [],
   "source": [
    "# define the allocation function\n",
    "def use_the_bad_drug(day,sensitive,resistant_A,resistant_B,resistant_AB):\n",
    "    pA=0\n",
    "    pB=1\n",
    "    return(pA,pB)\n",
    "\n",
    "results = model.run_model(use_the_bad_drug,cost=0.002,mutation=0.00001) # run the model\n",
    "\n",
    "\n",
    "fig = plt.figure(figsize=(12, 4))\n",
    "ax1 = fig.add_subplot(131)\n",
    "plt.plot(\"day\", \"sensitive\",data=results)\n",
    "plt.plot(\"day\", \"resistant_A\",data=results)\n",
    "plt.plot(\"day\", \"resistant_B\",data=results)\n",
    "plt.plot(\"day\", \"resistant_AB\",data=results)\n",
    "plt.ylim((0, 1))\n",
    "plt.xlabel('Day')\n",
    "plt.ylabel('Prevalence')\n",
    "plt.legend(['Sensitive', 'Resistant to A', 'Resistant to B', 'Resistant to A and B'])\n",
    "ax2 = fig.add_subplot(132)\n",
    "plt.plot(\"day\", \"usage_A\",data=results)\n",
    "plt.plot(\"day\", \"usage_B\",data=results)\n",
    "plt.xlabel('Day')\n",
    "plt.ylabel('Usage of Antibiotic (proportion)')\n",
    "plt.legend(['A', 'B'])\n",
    "average_deaths=np.mean(results.deaths)\n",
    "ax3 = fig.add_subplot(133)\n",
    "plt.plot(\"day\", \"deaths\",data=results)\n",
    "plt.xlabel('Day')\n",
    "plt.ylabel('Deaths per 100,000')\n",
    "plt.subplots_adjust(wspace=0.4)\n",
    "plt.show()\n",
    "\n",
    "sum(results.deaths)"
   ]
  },
  {
   "cell_type": "markdown",
   "id": "6ba075a5",
   "metadata": {},
   "source": [
    "Here we have run the model as last week, but we are now passing the function values for the parameters `cost` and `mutation`, which it will use for that model run. This allows us to use a for loop to loop our model across parameter values to explore its behaviour (**Note**:You also used for loops in the week 1 workshop). Let's look at an example now by looping the model across different values of the cost of resistance."
   ]
  },
  {
   "cell_type": "code",
   "execution_count": null,
   "id": "207294c8",
   "metadata": {},
   "outputs": [],
   "source": [
    "cost_values = np.arange(0, 0.0105, 0.0005).tolist() # list of cost values to use\n",
    "\n",
    "death_results=list() # empty list for death results\n",
    "\n",
    "# loop across the cost values\n",
    "for cost in cost_values:\n",
    "    results = model.run_model(use_the_bad_drug,cost=cost,mutation=0.00001) # run the model\n",
    "    death_results.append(sum(results.deaths)) # sum deaths and add it to the results list\n",
    "\n",
    "# plot total deaths as a function of the cost of resistance\n",
    "plt.plot(cost_values, death_results)\n",
    "plt.xlabel('Cost of resistance')\n",
    "plt.ylabel('Total deaths');"
   ]
  },
  {
   "cell_type": "markdown",
   "id": "6e7a8c5c",
   "metadata": {},
   "source": [
    "We see here that an increased cost of resistance reduces the number of deaths in the model as this will slow the evolution of resistance. However, above a cost value of 0.005 there is no further decline in deaths. This makes sense as the efficacy of drug B is 0.005, so at this point the cost of resistance completely cancels out the benefit of resistance, so resistance never evolves when the cost is greater than 0.005. We can see this by comparing the dynamics of the model when "
   ]
  },
  {
   "cell_type": "markdown",
   "id": "0452a3b7",
   "metadata": {},
   "source": [
    "# Task 1 – Describing functions\n",
    "\n",
    "Below you are given three functions for allocating antibiotics in the hospital. Simply from the function code write what you think each function does, as well as what you think the logic is for why this might help save patients, in the text cell below the function code. You can insert extra cells to run the model with the function and plot the function behaviour if this will help you decipher the code. You can also use google, stackoverflow, etc. to help with any aspects of the code that you don't understand."
   ]
  },
  {
   "cell_type": "code",
   "execution_count": null,
   "id": "d3243edc",
   "metadata": {},
   "outputs": [],
   "source": [
    "def function1(day,sensitive,resistant_A,resistant_B,resistant_AB):\n",
    "    pA=2/3\n",
    "    pB=1/3\n",
    "    return(pA,pB)\n"
   ]
  },
  {
   "cell_type": "markdown",
   "id": "53e2a496",
   "metadata": {},
   "source": [
    "Double click on this text box. Add your explanation for function1 here and what the logic is for why it might help save patients."
   ]
  },
  {
   "cell_type": "code",
   "execution_count": null,
   "id": "fc507941",
   "metadata": {},
   "outputs": [],
   "source": [
    "import math\n",
    "def function2(day,sensitive,resistant_A,resistant_B,resistant_AB):\n",
    "    if (math.ceil(day/60)%2==0):\n",
    "        pA=1\n",
    "        pB=0\n",
    "    else:\n",
    "        pA=0\n",
    "        pB=1\n",
    "    return(pA,pB)\n"
   ]
  },
  {
   "cell_type": "markdown",
   "id": "b1d7372f",
   "metadata": {},
   "source": [
    "Double click on this text box. Add your explanation for function2 here and what the logic is for why it might help save patients."
   ]
  },
  {
   "cell_type": "code",
   "execution_count": null,
   "id": "ab86e6a2",
   "metadata": {},
   "outputs": [],
   "source": [
    "def function3(day,sensitive,resistant_A,resistant_B,resistant_AB):\n",
    "    if ((sensitive+resistant_A) < 2*(sensitive+resistant_B)):\n",
    "        pA=1\n",
    "        pB=0\n",
    "    else:\n",
    "        pA=0\n",
    "        pB=1\n",
    "    return(pA,pB)\n"
   ]
  },
  {
   "cell_type": "markdown",
   "id": "c10e8f41",
   "metadata": {},
   "source": [
    "Double click on this text box. Add your explanation for function3 here and what the logic is for why it might help save patients."
   ]
  },
  {
   "cell_type": "markdown",
   "id": "b46f3faf",
   "metadata": {},
   "source": [
    "# Task 2 – Comparing to your function\n",
    "\n",
    "You've been given 3 allocation functions above. Now make some plots comparing the deaths with your allocation function that you devised last week to these allocation functions. First plot the total deaths for each function against a varying cost of resistance (i.e. four different coloured lines, one for each allocation function, x-axis is cost of resistance, y-axis is total deaths). Second, plot the total deaths for each function against a varying probability of mutation (i.e. four different coloured lines, one for each allocation function, x-axis is mutation probability, y-axis is total deaths).\n",
    "\n",
    "![image.png](attachment:image.png)\n",
    "\n",
    "Once you have made these plots, explain why you think your allocation function from last week performed better or worse than the allocation functions supplied here. You can use the text box below to enter your explanation."
   ]
  },
  {
   "cell_type": "code",
   "execution_count": null,
   "id": "7bce5c4b",
   "metadata": {
    "scrolled": true
   },
   "outputs": [],
   "source": []
  },
  {
   "cell_type": "markdown",
   "id": "b9ab91e7",
   "metadata": {},
   "source": [
    "Double click on this text box. Add your explanation here for why your allocation function from last week performed better or worse than the allocation functions supplied today."
   ]
  },
  {
   "cell_type": "markdown",
   "id": "04cdeaac",
   "metadata": {},
   "source": [
    "# Task 3 – Write up for your paper\n",
    "For you paper submission you will need to write 300 words on \"Explain how you would use a newly discovered antibiotic in a way that minimises the speed at which resistance to it evolves and saves as many patients as possible”. You will also need to choose a figure from what you did in the last two workshops that shows some results supporting this strategy. You can access this by clicking \"Discover Workbook\" on the course Learn page, follwed by the Paper Submission tab. You should begin work on this now and you can always edit it further before the submission date"
   ]
  },
  {
   "cell_type": "code",
   "execution_count": null,
   "id": "91bb55f1",
   "metadata": {},
   "outputs": [],
   "source": []
  }
 ],
 "metadata": {
  "kernelspec": {
   "display_name": "Python 3 (ipykernel)",
   "language": "python",
   "name": "python3"
  },
  "language_info": {
   "codemirror_mode": {
    "name": "ipython",
    "version": 3
   },
   "file_extension": ".py",
   "mimetype": "text/x-python",
   "name": "python",
   "nbconvert_exporter": "python",
   "pygments_lexer": "ipython3",
   "version": "3.9.13"
  }
 },
 "nbformat": 4,
 "nbformat_minor": 5
}
